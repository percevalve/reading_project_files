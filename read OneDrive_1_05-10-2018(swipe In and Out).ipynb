{
 "cells": [
  {
   "cell_type": "code",
   "execution_count": 1,
   "metadata": {},
   "outputs": [],
   "source": [
    "import numpy as np # linear algebra\n",
    "import pandas as pd # data processing, CSV file I/O (e.g. pd.read_csv)\n",
    "import seaborn as sns\n",
    "import matplotlib.pyplot as plt\n",
    "import datetime\n",
    "from openpyxl import load_workbook\n",
    "plt.rcParams['figure.figsize'] = (20.0, 10.0)\n",
    "plt.rcParams.update({'font.size': 22})"
   ]
  },
  {
   "cell_type": "markdown",
   "metadata": {},
   "source": [
    "# Loading the data\n"
   ]
  },
  {
   "cell_type": "code",
   "execution_count": 3,
   "metadata": {},
   "outputs": [],
   "source": [
    "with open(\"OneDrive_1_05-10-2018/Headers.csv\", 'rt') as f:\n",
    "    headers = pd.read_csv(f)"
   ]
  },
  {
   "cell_type": "code",
   "execution_count": 6,
   "metadata": {},
   "outputs": [
    {
     "name": "stdout",
     "output_type": "stream",
     "text": [
      "2013\n",
      "2014\n",
      "2015\n",
      "2016\n",
      "2017\n",
      "2018\n"
     ]
    }
   ],
   "source": [
    "data = dict()\n",
    "for file in range(2013,2019):\n",
    "    print(file)\n",
    "    with open(\"OneDrive_1_05-10-2018/%s.csv\"%file, 'rt') as f:\n",
    "        data[file] = pd.read_csv(f,header=None)\n",
    "        data[file].columns = headers.columns\n",
    "        data[file][\"year\"] = file"
   ]
  },
  {
   "cell_type": "code",
   "execution_count": 7,
   "metadata": {},
   "outputs": [],
   "source": [
    "all_data = pd.concat([item for _,item in data.items()])\n"
   ]
  },
  {
   "cell_type": "code",
   "execution_count": 8,
   "metadata": {},
   "outputs": [
    {
     "name": "stderr",
     "output_type": "stream",
     "text": [
      "/Users/severinhatt/Virtualenvs/thinkful/base_plotting/lib/python3.7/site-packages/numpy/core/fromnumeric.py:83: RuntimeWarning: invalid value encountered in reduce\n",
      "  return ufunc.reduce(obj, axis, dtype, out, **passkwargs)\n"
     ]
    }
   ],
   "source": [
    "for col in ['userid','company','company_de']:\n",
    "    all_data[col] = pd.to_numeric(all_data[col],downcast='unsigned')"
   ]
  },
  {
   "cell_type": "code",
   "execution_count": 9,
   "metadata": {},
   "outputs": [],
   "source": [
    "wb = load_workbook(filename='OneDrive_1_05-10-2018/SRM Trades.xlsx', read_only=True)\n",
    "ws = wb.active\n",
    "srm = list()\n",
    "for row in ws.rows:\n",
    "    srm_list = {'id': row[0].value ,'trade': row[1].value , 'active': row[2].value}\n",
    "    srm.append(srm_list)\n",
    "srm_df = pd.DataFrame.from_records(srm[1:]) #first line is the header"
   ]
  },
  {
   "cell_type": "code",
   "execution_count": null,
   "metadata": {},
   "outputs": [],
   "source": [
    "all_data=all_data.merge(srm_df,left_on='trade',right_on=\"id\").drop(\"trade_x\",axis=1).rename({\"trade_y\":\"trade\"},axis=1)"
   ]
  },
  {
   "cell_type": "code",
   "execution_count": null,
   "metadata": {},
   "outputs": [],
   "source": [
    "all_data[all_data.year == 2013].sample(25)"
   ]
  },
  {
   "cell_type": "code",
   "execution_count": null,
   "metadata": {},
   "outputs": [],
   "source": [
    "#In 2013 SwipeIn seems to only by a time with no dates...\n",
    "all_data_but_2013 =  all_data[all_data.year != 2013].copy()"
   ]
  },
  {
   "cell_type": "code",
   "execution_count": null,
   "metadata": {},
   "outputs": [],
   "source": [
    "for col in ['swipeIn','swipeOut']:\n",
    "    all_data_but_2013[col] = pd.to_datetime(all_data_but_2013[col])"
   ]
  },
  {
   "cell_type": "code",
   "execution_count": null,
   "metadata": {},
   "outputs": [],
   "source": [
    "all_data_but_2013[\"work_hours\"] = (all_data_but_2013.swipeOut - all_data_but_2013.swipeIn).dt.seconds/3600"
   ]
  },
  {
   "cell_type": "code",
   "execution_count": null,
   "metadata": {},
   "outputs": [],
   "source": [
    "all_data_but_2013.info()"
   ]
  },
  {
   "cell_type": "code",
   "execution_count": null,
   "metadata": {},
   "outputs": [],
   "source": [
    "all_data_but_2013.describe()"
   ]
  },
  {
   "cell_type": "code",
   "execution_count": null,
   "metadata": {},
   "outputs": [],
   "source": [
    "all_data_but_2013[\"swipeIn_date\"] =all_data_but_2013.swipeIn.dt.date\n",
    "all_data_but_2013[\"swipeIn_date\"] = pd.to_datetime(all_data_but_2013[\"swipeIn_date\"])"
   ]
  },
  {
   "cell_type": "code",
   "execution_count": null,
   "metadata": {},
   "outputs": [],
   "source": [
    "swipe_per_day_per_user = all_data_but_2013[~all_data_but_2013.work_hours.isna()].groupby([\"trade\",\"userid\",\"swipeIn_date\"]).agg({'userid': 'count', 'work_hours': ['sum','max',\"median\",'min']})"
   ]
  },
  {
   "cell_type": "code",
   "execution_count": null,
   "metadata": {},
   "outputs": [],
   "source": [
    "swipe_per_day_per_user.columns = swipe_per_day_per_user.columns.droplevel()"
   ]
  },
  {
   "cell_type": "code",
   "execution_count": null,
   "metadata": {},
   "outputs": [],
   "source": [
    "swipe_per_day_per_user.head()"
   ]
  },
  {
   "cell_type": "code",
   "execution_count": null,
   "metadata": {},
   "outputs": [],
   "source": [
    "people_per_day=swipe_per_day_per_user.reset_index().groupby([\"swipeIn_date\"])\\\n",
    ".agg({'userid': 'count', 'sum': 'sum','max':'max',\"median\":\"median\",'min':'min'})\\\n",
    ".rename(columns={'userid':'user_count',\"sum\":\"sum_hours\"})\\\n",
    ".reset_index()"
   ]
  },
  {
   "cell_type": "code",
   "execution_count": null,
   "metadata": {},
   "outputs": [],
   "source": [
    "people_per_day[\"weekday\"]= people_per_day.swipeIn_date.dt.weekday"
   ]
  },
  {
   "cell_type": "code",
   "execution_count": null,
   "metadata": {},
   "outputs": [],
   "source": [
    "people_per_day[people_per_day.user_count==np.max(people_per_day.user_count)]"
   ]
  },
  {
   "cell_type": "code",
   "execution_count": null,
   "metadata": {},
   "outputs": [],
   "source": [
    "all_data_but_2013[all_data_but_2013.swipeIn_date=='2016-06-21']"
   ]
  },
  {
   "cell_type": "code",
   "execution_count": null,
   "metadata": {},
   "outputs": [],
   "source": [
    "sns.boxenplot(data=people_per_day,x=\"weekday\",y=\"user_count\")\n"
   ]
  },
  {
   "cell_type": "code",
   "execution_count": null,
   "metadata": {},
   "outputs": [],
   "source": [
    "sns.set_style(\"whitegrid\")\n",
    "sns.boxenplot(data=people_per_day,x=\"weekday\",y=\"sum_hours\")\\\n",
    ".set_title(\"Distribution of the number of hours worked per day depending on the day of the week (0=> Monday, 6=> Sunday)\");\n"
   ]
  },
  {
   "cell_type": "code",
   "execution_count": null,
   "metadata": {},
   "outputs": [],
   "source": [
    "trade_per_day=swipe_per_day_per_user.reset_index().groupby([\"trade\",\"swipeIn_date\"])\\\n",
    ".agg({'trade': 'count', 'sum': 'sum','max':'max',\"median\":\"median\",'min':'min'})\\\n",
    ".rename(columns={'trade':'trade_count',\"sum\":\"sum_hours\"})\\\n",
    ".reset_index()"
   ]
  },
  {
   "cell_type": "code",
   "execution_count": null,
   "metadata": {},
   "outputs": [],
   "source": [
    "#We can graphically confirm that people indeed work 8 hours per day!\n",
    "sns.scatterplot(data=trade_per_day[trade_per_day.swipeIn_date=='2016-06-21'],\n",
    "                x=\"trade_count\",y=\"sum_hours\",hue=\"trade\",\n",
    "               legend=False)\\\n",
    ".set_title(\"Number of people working and hours worked per trade category for 21 June 2016\");"
   ]
  },
  {
   "cell_type": "code",
   "execution_count": null,
   "metadata": {},
   "outputs": [],
   "source": [
    "all_data_but_2013[\"swipe_in_out_same_day\"] = all_data_but_2013.swipeIn.dt.date == all_data_but_2013.swipeOut.dt.date"
   ]
  },
  {
   "cell_type": "code",
   "execution_count": null,
   "metadata": {},
   "outputs": [],
   "source": [
    "#Only a very small portion of the swipes have different date for swipe in and out.\n",
    "sum(all_data_but_2013[\"swipe_in_out_same_day\"])/all_data_but_2013.shape[0]"
   ]
  },
  {
   "cell_type": "code",
   "execution_count": null,
   "metadata": {},
   "outputs": [],
   "source": []
  }
 ],
 "metadata": {
  "kernelspec": {
   "display_name": "Python 3",
   "language": "python",
   "name": "python3"
  }
 },
 "nbformat": 4,
 "nbformat_minor": 2
}
